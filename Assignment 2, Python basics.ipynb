{
 "cells": [
  {
   "cell_type": "markdown",
   "id": "f3a24536",
   "metadata": {},
   "source": [
    "### Question1\n",
    "\n",
    "What are the two values of the Boolean data type? How do you write them?\n",
    "\n",
    "### Answer:- \n",
    "The two values of Boolean data type are true and false, We write them as True and False"
   ]
  },
  {
   "cell_type": "code",
   "execution_count": 3,
   "id": "d9905b0b",
   "metadata": {},
   "outputs": [
    {
     "data": {
      "text/plain": [
       "(True, False)"
      ]
     },
     "execution_count": 3,
     "metadata": {},
     "output_type": "execute_result"
    }
   ],
   "source": [
    "True, False"
   ]
  },
  {
   "cell_type": "markdown",
   "id": "5a022b88",
   "metadata": {},
   "source": [
    "### Question2\n",
    "\n",
    "What are the three different types of Boolean operators?\n",
    "\n",
    "### Answer:- \n",
    "\n",
    "The three different types of Boolean operators are `and`, `or` and `not`."
   ]
  },
  {
   "cell_type": "markdown",
   "id": "c9d1bcb4",
   "metadata": {},
   "source": [
    "### Question3\n",
    "\n",
    "Make a list of each Boolean operator's truth tables (i.e. every possible combination of Boolean values for the operator and what it evaluate ).\n",
    "\n",
    "### Answer:-\n",
    "\n",
    "Truth table for And\n",
    "A  B  result\n",
    "0  0    0\n",
    "0  1    0\n",
    "1  0    0\n",
    "1  1    1\n",
    "\n",
    "Truth table for Or\n",
    "A  B  result\n",
    "0  0    0\n",
    "0  1    1\n",
    "1  0    1\n",
    "1  1    1\n",
    "\n",
    "Truth table for Not\n",
    "A  result\n",
    "0    1\n",
    "1    0\n",
    "\n",
    "\n",
    "**And**"
   ]
  },
  {
   "cell_type": "code",
   "execution_count": 4,
   "id": "dbaa14c8",
   "metadata": {},
   "outputs": [
    {
     "data": {
      "text/plain": [
       "True"
      ]
     },
     "execution_count": 4,
     "metadata": {},
     "output_type": "execute_result"
    }
   ],
   "source": [
    "True and True"
   ]
  },
  {
   "cell_type": "code",
   "execution_count": 5,
   "id": "85cbc981",
   "metadata": {},
   "outputs": [
    {
     "data": {
      "text/plain": [
       "False"
      ]
     },
     "execution_count": 5,
     "metadata": {},
     "output_type": "execute_result"
    }
   ],
   "source": [
    "True and False"
   ]
  },
  {
   "cell_type": "code",
   "execution_count": 6,
   "id": "364c1d51",
   "metadata": {},
   "outputs": [
    {
     "data": {
      "text/plain": [
       "False"
      ]
     },
     "execution_count": 6,
     "metadata": {},
     "output_type": "execute_result"
    }
   ],
   "source": [
    "False and True"
   ]
  },
  {
   "cell_type": "code",
   "execution_count": 7,
   "id": "04151fc0",
   "metadata": {},
   "outputs": [
    {
     "data": {
      "text/plain": [
       "False"
      ]
     },
     "execution_count": 7,
     "metadata": {},
     "output_type": "execute_result"
    }
   ],
   "source": [
    "False and False"
   ]
  },
  {
   "cell_type": "markdown",
   "id": "a9daa8d7",
   "metadata": {},
   "source": [
    "**Or**"
   ]
  },
  {
   "cell_type": "code",
   "execution_count": 9,
   "id": "10490ddd",
   "metadata": {},
   "outputs": [
    {
     "data": {
      "text/plain": [
       "True"
      ]
     },
     "execution_count": 9,
     "metadata": {},
     "output_type": "execute_result"
    }
   ],
   "source": [
    "True or True"
   ]
  },
  {
   "cell_type": "code",
   "execution_count": 10,
   "id": "dfd85e62",
   "metadata": {},
   "outputs": [
    {
     "data": {
      "text/plain": [
       "True"
      ]
     },
     "execution_count": 10,
     "metadata": {},
     "output_type": "execute_result"
    }
   ],
   "source": [
    "True or False"
   ]
  },
  {
   "cell_type": "code",
   "execution_count": 11,
   "id": "bf0fd402",
   "metadata": {},
   "outputs": [
    {
     "data": {
      "text/plain": [
       "True"
      ]
     },
     "execution_count": 11,
     "metadata": {},
     "output_type": "execute_result"
    }
   ],
   "source": [
    "False or True"
   ]
  },
  {
   "cell_type": "code",
   "execution_count": 12,
   "id": "86d0f335",
   "metadata": {},
   "outputs": [
    {
     "data": {
      "text/plain": [
       "False"
      ]
     },
     "execution_count": 12,
     "metadata": {},
     "output_type": "execute_result"
    }
   ],
   "source": [
    "False or False"
   ]
  },
  {
   "cell_type": "markdown",
   "id": "71997c2e",
   "metadata": {},
   "source": [
    "**Not**"
   ]
  },
  {
   "cell_type": "code",
   "execution_count": 14,
   "id": "d56fcf71",
   "metadata": {},
   "outputs": [
    {
     "data": {
      "text/plain": [
       "True"
      ]
     },
     "execution_count": 14,
     "metadata": {},
     "output_type": "execute_result"
    }
   ],
   "source": [
    "not True is False"
   ]
  },
  {
   "cell_type": "code",
   "execution_count": 15,
   "id": "819c8b6c",
   "metadata": {},
   "outputs": [
    {
     "data": {
      "text/plain": [
       "True"
      ]
     },
     "execution_count": 15,
     "metadata": {},
     "output_type": "execute_result"
    }
   ],
   "source": [
    "not False is True"
   ]
  },
  {
   "cell_type": "markdown",
   "id": "5daf8f55",
   "metadata": {},
   "source": [
    "### Question4\n",
    "\n",
    "What are the values of the following expressions?\n",
    "1. (5>4) and (3==5)\n",
    "2. not(5>4)\n",
    "3. (5>4) or (3==5)\n",
    "4. not((5>4) or (3==5))\n",
    "5. (True and True) and (True==False)\n",
    "6. (not False) or (not True)"
   ]
  },
  {
   "cell_type": "code",
   "execution_count": 17,
   "id": "2468fd30",
   "metadata": {},
   "outputs": [
    {
     "data": {
      "text/plain": [
       "False"
      ]
     },
     "execution_count": 17,
     "metadata": {},
     "output_type": "execute_result"
    }
   ],
   "source": [
    "(5>4) and (3==5)"
   ]
  },
  {
   "cell_type": "code",
   "execution_count": 18,
   "id": "b73dbd1a",
   "metadata": {},
   "outputs": [
    {
     "data": {
      "text/plain": [
       "False"
      ]
     },
     "execution_count": 18,
     "metadata": {},
     "output_type": "execute_result"
    }
   ],
   "source": [
    "not(5>4)"
   ]
  },
  {
   "cell_type": "code",
   "execution_count": 19,
   "id": "88a5b3ec",
   "metadata": {},
   "outputs": [
    {
     "data": {
      "text/plain": [
       "True"
      ]
     },
     "execution_count": 19,
     "metadata": {},
     "output_type": "execute_result"
    }
   ],
   "source": [
    "(5>4) or (3==5)"
   ]
  },
  {
   "cell_type": "code",
   "execution_count": 20,
   "id": "43f82c36",
   "metadata": {},
   "outputs": [
    {
     "data": {
      "text/plain": [
       "False"
      ]
     },
     "execution_count": 20,
     "metadata": {},
     "output_type": "execute_result"
    }
   ],
   "source": [
    "not((5>4) or (3==5))"
   ]
  },
  {
   "cell_type": "code",
   "execution_count": 21,
   "id": "1703edc8",
   "metadata": {},
   "outputs": [
    {
     "data": {
      "text/plain": [
       "False"
      ]
     },
     "execution_count": 21,
     "metadata": {},
     "output_type": "execute_result"
    }
   ],
   "source": [
    "(True and True) and (True==False)"
   ]
  },
  {
   "cell_type": "code",
   "execution_count": 22,
   "id": "b4a92d1a",
   "metadata": {},
   "outputs": [
    {
     "data": {
      "text/plain": [
       "True"
      ]
     },
     "execution_count": 22,
     "metadata": {},
     "output_type": "execute_result"
    }
   ],
   "source": [
    "(not False) or (not True)"
   ]
  },
  {
   "cell_type": "markdown",
   "id": "aa27411f",
   "metadata": {},
   "source": [
    "### Question5\n",
    "\n",
    "What are the six comparison operators?\n",
    "\n",
    "### Answer:-\n",
    "\n",
    "1. `==` Equal\n",
    "2. `!-` Not equal\n",
    "3. `>` Greater than\n",
    "4. `<` Less than\n",
    "5. `>=` Greater than or equal to\n",
    "6. `<=` Less than or equal to"
   ]
  },
  {
   "cell_type": "markdown",
   "id": "fe0805b4",
   "metadata": {},
   "source": [
    "### Question6\n",
    "\n",
    "How do you tell the difference between the equal to and assignment operators? Describe a condition and when you would use one.\n",
    "\n",
    "### Answer:- \n",
    "We can easily tell the difference between equal to and assignment operator because when we say equal to there we use `==` this sign it denots equal to and when we say assignment then we use `=` this sign. Condition a = 10, and a==10.\n",
    "\n",
    "**e.g**"
   ]
  },
  {
   "cell_type": "code",
   "execution_count": 26,
   "id": "bf35b6b6",
   "metadata": {},
   "outputs": [
    {
     "name": "stdout",
     "output_type": "stream",
     "text": [
      "10\n",
      "True\n"
     ]
    }
   ],
   "source": [
    "#here we are using assignment operator\n",
    "a = 10\n",
    "print(10)\n",
    "\n",
    "#here we are using equal to operator\n",
    "b = a==10\n",
    "print(b)"
   ]
  },
  {
   "cell_type": "markdown",
   "id": "283792e6",
   "metadata": {},
   "source": [
    "### Question7\n",
    "\n",
    "Identify the three blocks in this code:\n",
    "\n",
    "spam = 0\n",
    "\n",
    "if spam == 10:\n",
    "print('eggs')\n",
    "if spam > 5:\n",
    "print('bacon')\n",
    "else:\n",
    "print('ham')\n",
    "print('spam')\n",
    "print('spam')"
   ]
  },
  {
   "cell_type": "code",
   "execution_count": 27,
   "id": "7b392b99",
   "metadata": {},
   "outputs": [
    {
     "name": "stdout",
     "output_type": "stream",
     "text": [
      "bacon\n",
      "ham\n",
      "spam\n"
     ]
    }
   ],
   "source": [
    "spam = 0 \n",
    "\n",
    "if spam == 10:       #block1\n",
    "    print('eggs')\n",
    "    \n",
    "if spam > 5:         # block2\n",
    "    print('bacon')\n",
    "\n",
    "else:           # block3\n",
    "    print('bacon')\n",
    "    print('ham')\n",
    "    print('spam')"
   ]
  },
  {
   "cell_type": "markdown",
   "id": "9216272b",
   "metadata": {},
   "source": [
    "### Question8\n",
    "\n",
    "Write code that prints Hello if 1 is stored in spam, prints Howdy if 2 is stored in spam, and prints Greetings! if anything wlse is stored in spam.\n",
    "\n",
    "#### Code"
   ]
  },
  {
   "cell_type": "code",
   "execution_count": 31,
   "id": "0676a1c4",
   "metadata": {},
   "outputs": [
    {
     "name": "stdout",
     "output_type": "stream",
     "text": [
      "Enter a value :- 32\n",
      "Greetings!\n"
     ]
    }
   ],
   "source": [
    "spam = int(input(\"Enter a value :- \"))\n",
    "\n",
    "if spam == 1:\n",
    "    print(\"Hello\")\n",
    "\n",
    "elif spam == 2:\n",
    "    print(\"Howdy\")\n",
    "\n",
    "else:\n",
    "    print(\"Greetings!\")"
   ]
  },
  {
   "cell_type": "markdown",
   "id": "723d1f6a",
   "metadata": {},
   "source": [
    "### Question9\n",
    "\n",
    "If your programme is stuck in an endless loop, what keys you'll press?\n",
    "\n",
    "### Answer:- \n",
    "\n",
    "If my programme will stuck in an endless loop I'll press `I I` these key word will interrupt my code or if I'm not in jupyter notebook then I'll press ` ctrl + c `"
   ]
  },
  {
   "cell_type": "markdown",
   "id": "b37b8e64",
   "metadata": {},
   "source": [
    "### Question10\n",
    "\n",
    "How can you tell the difference between break and continue?\n",
    "\n",
    "### Answer:- \n",
    "\n",
    "Continue goes back to the starting of loop where as break goes out of the loop"
   ]
  },
  {
   "cell_type": "code",
   "execution_count": 34,
   "id": "ea0dbb25",
   "metadata": {},
   "outputs": [
    {
     "name": "stdout",
     "output_type": "stream",
     "text": [
      "0\n",
      "1\n",
      "3\n",
      "4\n",
      "hello\n"
     ]
    }
   ],
   "source": [
    "for i in range(10):\n",
    "    if i == 2:\n",
    "        continue\n",
    "    elif i== 5:\n",
    "        break\n",
    "    else:\n",
    "        print(i)\n",
    "print('hello')"
   ]
  },
  {
   "cell_type": "markdown",
   "id": "96c7c05b",
   "metadata": {},
   "source": [
    "### Question11\n",
    "\n",
    "In a for loop, what is the difference between range(10), range(0,10), and range(0,10,1)?\n",
    "\n",
    "### Answer:- \n",
    "\n",
    "There is no difference between them all are same range(10) it tells go to the range of 10 from 0 here 0 is default, range(0,10)  it tells go from 0 to 10 and range(0,10,1) it tell start with 0 go up to 10 and step is 1."
   ]
  },
  {
   "cell_type": "code",
   "execution_count": 35,
   "id": "6c61b83d",
   "metadata": {},
   "outputs": [
    {
     "name": "stdout",
     "output_type": "stream",
     "text": [
      "0\n",
      "1\n",
      "2\n",
      "3\n",
      "4\n",
      "5\n",
      "6\n",
      "7\n",
      "8\n",
      "9\n",
      "New loop\n",
      "0\n",
      "1\n",
      "2\n",
      "3\n",
      "4\n",
      "5\n",
      "6\n",
      "7\n",
      "8\n",
      "9\n",
      "New loop\n",
      "0\n",
      "1\n",
      "2\n",
      "3\n",
      "4\n",
      "5\n",
      "6\n",
      "7\n",
      "8\n",
      "9\n"
     ]
    }
   ],
   "source": [
    "for i in range(10):\n",
    "    print(i)\n",
    "    \n",
    "print(\"New loop\")\n",
    "\n",
    "for i in range(0,10):\n",
    "    print(i)\n",
    "\n",
    "print('New loop')\n",
    "\n",
    "for i in range(0,10,1):\n",
    "    print(i)"
   ]
  },
  {
   "cell_type": "markdown",
   "id": "1bb90af8",
   "metadata": {},
   "source": [
    "### Question12 \n",
    "\n",
    "Write a short program that prints the numbers 1 to 10 using a for loop. Then write an equivalent program that prints the numbres 1 to 10 using a while loop.\n",
    "\n",
    "**Code**"
   ]
  },
  {
   "cell_type": "code",
   "execution_count": 36,
   "id": "5ffceb07",
   "metadata": {},
   "outputs": [
    {
     "name": "stdout",
     "output_type": "stream",
     "text": [
      "1\n",
      "2\n",
      "3\n",
      "4\n",
      "5\n",
      "6\n",
      "7\n",
      "8\n",
      "9\n",
      "10\n"
     ]
    }
   ],
   "source": [
    "for i in range(1,11):\n",
    "    print(i)"
   ]
  },
  {
   "cell_type": "code",
   "execution_count": 37,
   "id": "4f30e338",
   "metadata": {},
   "outputs": [
    {
     "name": "stdout",
     "output_type": "stream",
     "text": [
      "1\n",
      "2\n",
      "3\n",
      "4\n",
      "5\n",
      "6\n",
      "7\n",
      "8\n",
      "9\n",
      "10\n"
     ]
    }
   ],
   "source": [
    "a = 1\n",
    "\n",
    "while a!= 11:\n",
    "    print(a)\n",
    "    a +=1"
   ]
  },
  {
   "cell_type": "markdown",
   "id": "214a1598",
   "metadata": {},
   "source": [
    "### Question13\n",
    "\n",
    "If you had a function named bacon() inside a module named spam, how would you call it after importing spam?\n",
    "\n",
    "##### Answer:-  we have to call like this spam.bacon()"
   ]
  },
  {
   "cell_type": "code",
   "execution_count": null,
   "id": "16807735",
   "metadata": {},
   "outputs": [],
   "source": []
  }
 ],
 "metadata": {
  "kernelspec": {
   "display_name": "Python 3 (ipykernel)",
   "language": "python",
   "name": "python3"
  },
  "language_info": {
   "codemirror_mode": {
    "name": "ipython",
    "version": 3
   },
   "file_extension": ".py",
   "mimetype": "text/x-python",
   "name": "python",
   "nbconvert_exporter": "python",
   "pygments_lexer": "ipython3",
   "version": "3.8.11"
  }
 },
 "nbformat": 4,
 "nbformat_minor": 5
}
